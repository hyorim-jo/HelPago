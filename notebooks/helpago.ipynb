{
  "cells": [
    {
      "cell_type": "markdown",
      "metadata": {
        "id": "view-in-github",
        "colab_type": "text"
      },
      "source": [
        "<a href=\"https://colab.research.google.com/github/hyorim-jo/HelPago/blob/feat%2F%231-data-preprocessing/notebooks/helpago.ipynb\" target=\"_parent\"><img src=\"https://colab.research.google.com/assets/colab-badge.svg\" alt=\"Open In Colab\"/></a>"
      ]
    },
    {
      "cell_type": "markdown",
      "id": "d89b8e44",
      "metadata": {
        "id": "d89b8e44"
      },
      "source": [
        "# HelPago"
      ]
    },
    {
      "cell_type": "markdown",
      "source": [
        "## 데이터 다운로드 및 준비"
      ],
      "metadata": {
        "id": "iVq45hPgsvqZ"
      },
      "id": "iVq45hPgsvqZ"
    },
    {
      "cell_type": "markdown",
      "source": [
        "### 코드 셀 실행 로그 정보 기록 함수"
      ],
      "metadata": {
        "id": "IebA8sj1sxZ1"
      },
      "id": "IebA8sj1sxZ1"
    },
    {
      "cell_type": "code",
      "source": [
        "import time\n",
        "from datetime import datetime\n",
        "from google.colab import auth\n",
        "import subprocess\n",
        "\n",
        "def log_execution():\n",
        "    \"\"\"\n",
        "    현재 코드 셀의 실행 시작/종료 시간 및 사용자 계정 정보를 출력\n",
        "    \"\"\"\n",
        "    # 사용자 인증 (최초 1회만 입력 필요)\n",
        "    auth.authenticate_user()\n",
        "    try:\n",
        "        user_email = subprocess.check_output(\n",
        "            'gcloud config get-value account', shell=True).decode().strip()\n",
        "    except Exception as e:\n",
        "        user_email = f\"계정 확인 실패: {e}\"\n",
        "\n",
        "    # 시작 시간\n",
        "    start_time = time.time()\n",
        "    start_dt = datetime.now().strftime(\"%Y-%m-%d %H:%M:%S\")\n",
        "    print(f\"실행 시작: {start_dt}\")\n",
        "    print(f\"실행 계정: {user_email}\")\n",
        "\n",
        "    # 종료는 사용자가 호출\n",
        "    return start_time"
      ],
      "metadata": {
        "id": "419ZdZW7szNQ"
      },
      "id": "419ZdZW7szNQ",
      "execution_count": null,
      "outputs": []
    },
    {
      "cell_type": "markdown",
      "source": [
        "### 기본 패키지 및 모듈"
      ],
      "metadata": {
        "id": "lLO_avGns3ze"
      },
      "id": "lLO_avGns3ze"
    },
    {
      "cell_type": "code",
      "source": [
        "start_time = log_execution()\n",
        "\n",
        "import torch\n",
        "import torch.nn as nn\n",
        "import numpy as np\n",
        "\n",
        "from IPython.display import Image\n",
        "\n",
        "import matplotlib.pyplot as plt\n",
        "%matplotlib inline\n",
        "\n",
        "end_time = time.time()\n",
        "end_dt = datetime.now().strftime(\"%Y-%m-%d %H:%M:%S\")\n",
        "print(f\"실행 종료: {end_dt}\")\n",
        "print(f\"총 실행 시간: {end_time - start_time:.2f}초\")"
      ],
      "metadata": {
        "id": "T30b5TcZs5Bg"
      },
      "id": "T30b5TcZs5Bg",
      "execution_count": null,
      "outputs": []
    },
    {
      "cell_type": "markdown",
      "source": [
        "### Seed 설정 (고정)\n",
        "- 학번 뒷 세자리로 설정"
      ],
      "metadata": {
        "id": "wFdGTXpvs63B"
      },
      "id": "wFdGTXpvs63B"
    },
    {
      "cell_type": "code",
      "source": [
        "start_time = log_execution()\n",
        "\n",
        "torch.manual_seed(164)\n",
        "\n",
        "end_time = time.time()\n",
        "end_dt = datetime.now().strftime(\"%Y-%m-%d %H:%M:%S\")\n",
        "print(f\"실행 종료: {end_dt}\")\n",
        "print(f\"총 실행 시간: {end_time - start_time:.2f}초\")"
      ],
      "metadata": {
        "id": "AJe36iyfs8VK"
      },
      "id": "AJe36iyfs8VK",
      "execution_count": null,
      "outputs": []
    },
    {
      "cell_type": "markdown",
      "source": [
        "### Colab VM에 Google Drive 마운트"
      ],
      "metadata": {
        "id": "a3SF7n2Es9qz"
      },
      "id": "a3SF7n2Es9qz"
    },
    {
      "cell_type": "code",
      "source": [
        "start_time = log_execution()\n",
        "\n",
        "from google.colab import drive\n",
        "drive.mount('/content/drive', force_remount=True) #실행하면 강제로 리마운트\n",
        "\n",
        "end_time = time.time()\n",
        "end_dt = datetime.now().strftime(\"%Y-%m-%d %H:%M:%S\")\n",
        "print(f\"실행 종료: {end_dt}\")\n",
        "print(f\"총 실행 시간: {end_time - start_time:.2f}초\")"
      ],
      "metadata": {
        "id": "neQFJHwFs-8H"
      },
      "id": "neQFJHwFs-8H",
      "execution_count": null,
      "outputs": []
    },
    {
      "cell_type": "markdown",
      "source": [
        "### 데이터 복사 및 압축 해제\n",
        "- copy ko-en-aihub-v1.zip from google drive to colab vm"
      ],
      "metadata": {
        "id": "QQrfZR3CtC8e"
      },
      "id": "QQrfZR3CtC8e"
    },
    {
      "cell_type": "code",
      "source": [
        "import os\n",
        "import zipfile\n",
        "import shutil\n",
        "from tqdm import tqdm\n",
        "\n",
        "# 경로 설정\n",
        "zip_src = \"/content/drive/MyDrive/datasets/ko-en-aihub-v1.zip\"\n",
        "zip_dst = \"/content/ko-en-aihub-v1.zip\"\n",
        "extract_dir = \"/content/ko-en-aihub-v1\"\n",
        "nested_extract_dir = os.path.join(extract_dir, \"img_align_ko-en-aihub-v1\")\n",
        "\n",
        "# Step 1: Drive → VM 복사 (이미 있으면 생략)\n",
        "print(\"Step 1: 파일 복사 중...\")\n",
        "if os.path.exists(zip_dst):\n",
        "    print(f\"VM에 이미 zip 파일 존재 → 복사 생략: {zip_dst}\")\n",
        "else:\n",
        "    print(\"Step 1: Drive → VM zip 복사 중...\")\n",
        "\n",
        "    file_size = os.path.getsize(zip_src)\n",
        "    chunk_size = 1024 * 1024  # 1MB\n",
        "\n",
        "    with open(zip_src, 'rb') as src_file, open(zip_dst, 'wb') as dst_file:\n",
        "        with tqdm(total=file_size, unit='B', unit_scale=True, desc=\"복사 중\") as pbar:\n",
        "            while True:\n",
        "                chunk = src_file.read(chunk_size)\n",
        "                if not chunk:\n",
        "                    break\n",
        "                dst_file.write(chunk)\n",
        "                pbar.update(len(chunk))\n",
        "\n",
        "    print(f\"복사 완료: {zip_dst}\")\n",
        "\n",
        "\n",
        "# Step 2: ko-en-aihub-v1.zip 압축 해제 → /content/ko-en-aihub-v1/ (중첩 제거)\n",
        "print(\"Step 2: 1차 압축 해제 (중첩 제거) 중...\")\n",
        "\n",
        "with zipfile.ZipFile(zip_dst, 'r') as zip_ref:\n",
        "    members = zip_ref.infolist()\n",
        "\n",
        "    # 올바른 루트 제거를 위해 실제 파일만 필터링\n",
        "    real_files = [m.filename for m in members if not m.filename.endswith('/') and not m.filename.startswith('__MACOSX') and '/._' not in m.filename]\n",
        "\n",
        "    # 가장 긴 공통 경로 prefix 계산\n",
        "    root_prefix = os.path.commonprefix(real_files)\n",
        "    if not root_prefix.endswith('/'):\n",
        "        root_prefix = os.path.dirname(root_prefix) + \"/\"\n",
        "\n",
        "    with tqdm(total=len(real_files), desc=\"1차 압축 해제\", unit=\"file\") as pbar:\n",
        "        for member in members:\n",
        "            if member.is_dir() or member.filename.startswith('__MACOSX') or '/._' in member.filename:\n",
        "                continue\n",
        "\n",
        "            # 공통 루트 제거\n",
        "            rel_path = os.path.relpath(member.filename, root_prefix)\n",
        "            target_path = os.path.join(extract_dir, rel_path)\n",
        "\n",
        "            os.makedirs(os.path.dirname(target_path), exist_ok=True)\n",
        "            with zip_ref.open(member) as source, open(target_path, \"wb\") as target:\n",
        "                shutil.copyfileobj(source, target)\n",
        "            pbar.update(1)\n",
        "\n",
        "print(f\"1차 압축 해제 완료: {extract_dir}\")\n",
        "\n",
        "\n",
        "# Step 3: img_align_ko-en-aihub-v1.zip → img_align_ko-en-aihub-v1 폴더에 해제\n",
        "print(\"Step 3: img_align_ko-en-aihub-v1.zip 압축 해제 중...\")\n",
        "\n",
        "img_zip_path = os.path.join(extract_dir, \"img_align_cko-en-aihub-v1.zip\")\n",
        "if os.path.exists(img_zip_path):\n",
        "    os.makedirs(nested_extract_dir, exist_ok=True)\n",
        "    with zipfile.ZipFile(img_zip_path, 'r') as zip_ref:\n",
        "        members = zip_ref.infolist()\n",
        "        with tqdm(total=len(members), desc=\"2차 압축 해제\", unit=\"file\") as pbar:\n",
        "            for member in members:\n",
        "                if member.is_dir() or member.filename.startswith('__MACOSX') or member.filename.startswith('._'):\n",
        "                    pbar.update(1)\n",
        "                    continue\n",
        "                filename = os.path.basename(member.filename)\n",
        "                if not filename:\n",
        "                    pbar.update(1)\n",
        "                    continue\n",
        "                target_path = os.path.join(nested_extract_dir, filename)\n",
        "                with zip_ref.open(member) as source, open(target_path, \"wb\") as target:\n",
        "                    shutil.copyfileobj(source, target)\n",
        "                pbar.update(1)\n",
        "    print(f\"img_align_ko-en-aihub-v1.zip 압축 해제 완료 → {nested_extract_dir}\")\n",
        "else:\n",
        "    print(\"img_align_ko-en-aihub-v1.zip 파일이 존재하지 않습니다.\")\n"
      ],
      "metadata": {
        "id": "nvQOvToZtKzZ"
      },
      "id": "nvQOvToZtKzZ",
      "execution_count": null,
      "outputs": []
    },
    {
      "cell_type": "markdown",
      "source": [
        "### CelebA 데이터셋 로드\n",
        "- Colab VM에 있는 데이터에 접근\n",
        "- (주의) Colab Session이 종료되면 VM에 있는 데이터도 자동 삭제됨"
      ],
      "metadata": {
        "id": "_LRIcTZouITc"
      },
      "id": "_LRIcTZouITc"
    },
    {
      "cell_type": "code",
      "source": [
        "import torchvision\n",
        "\n",
        "start_time = log_execution()\n",
        "\n",
        "image_path = './'\n",
        "ko-en-aihub-v1_train_dataset = torchvision.datasets.ko-en-aihub-v1(image_path, split='train', target_type='attr', download=False)\n",
        "ko-en-aihub-v1_valid_dataset = torchvision.datasets.ko-en-aihub-v1(image_path, split='valid', target_type='attr', download=False)\n",
        "ko-en-aihub-v1_test_dataset = torchvision.datasets.ko-en-aihub-v1(image_path, split='test', target_type='attr', download=False)\n",
        "\n",
        "print('훈련 세트:', len(ko-en-aihub-v1_train_dataset))\n",
        "print('검증 세트:', len(ko-en-aihub-v1_valid_dataset))\n",
        "print('테스트 세트:', len(ko-en-aihub-v1_test_dataset))\n",
        "\n",
        "end_time = time.time()\n",
        "end_dt = datetime.now().strftime(\"%Y-%m-%d %H:%M:%S\")\n",
        "print(f\"실행 종료: {end_dt}\")\n",
        "print(f\"총 실행 시간: {end_time - start_time:.2f}초\")"
      ],
      "metadata": {
        "id": "n2cGb2Amtzvc"
      },
      "id": "n2cGb2Amtzvc",
      "execution_count": null,
      "outputs": []
    }
  ],
  "metadata": {
    "kernelspec": {
      "display_name": "torch_env",
      "language": "python",
      "name": "python3"
    },
    "language_info": {
      "name": "python",
      "version": "3.12.9"
    },
    "colab": {
      "provenance": [],
      "include_colab_link": true
    }
  },
  "nbformat": 4,
  "nbformat_minor": 5
}